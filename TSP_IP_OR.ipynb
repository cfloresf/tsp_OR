{
 "cells": [
  {
   "cell_type": "markdown",
   "id": "5ca9bb13-a4a0-483b-bb2c-79112923babb",
   "metadata": {},
   "source": [
    "# TSP: Traveling Salesman Problem"
   ]
  },
  {
   "cell_type": "markdown",
   "id": "fc25aec6-ff3f-4b37-ada8-2d2c53a5cc69",
   "metadata": {},
   "source": [
    "### Descripción del problema"
   ]
  },
  {
   "cell_type": "markdown",
   "id": "85302eef-e208-45e5-8f1e-162ad83b87f7",
   "metadata": {},
   "source": [
    "El Problema del Vendedor Viajero (TSP, por sus siglas en inglés) es un clásico problema de optimización combinatoria. La tarea consiste en encontrar la ruta más corta que permite a un viajante visitar un conjunto de ciudades, exactamente una vez, y regresar a la ciudad de origen.\n",
    "\n",
    "__Características del TSP:__\n",
    "\n",
    "* Entradas: Un conjunto de ciudades y las distancias (o costos) entre cada par de ciudades.\n",
    "* Objetivo: Minimizar la distancia total recorrida o el costo total del viaje.\n",
    "* Restricciones: Cada ciudad debe ser visitada exactamente una vez, y el viaje debe comenzar y terminar en la misma ciudad.\n",
    "\n",
    "__Dificultad:__\n",
    "El TSP es un problema NP-hard, lo que significa que no se conoce un algoritmo que pueda resolverlo en un tiempo razonable para todos los casos a medida que el número de ciudades aumenta. Por esta razón, se han desarrollado diversas aproximaciones y heurísticas, como algoritmos genéticos, algoritmos de colonia de hormigas y métodos de optimización de enjambre.\n",
    "\n",
    "__Aplicaciones:__\n",
    "El TSP tiene aplicaciones en logística, planificación de rutas, fabricación y diseño de circuitos, entre otros campos."
   ]
  },
  {
   "cell_type": "code",
   "execution_count": 1,
   "id": "0c6ff05b-34ed-458d-b8b0-a4e66be2cf47",
   "metadata": {},
   "outputs": [],
   "source": [
    "import pulp\n",
    "import pandas as pd\n",
    "import numpy as np\n",
    "import matplotlib.pyplot as plt\n",
    "import seaborn as sns\n",
    "from warnings import filterwarnings\n",
    "filterwarnings('ignore')"
   ]
  },
  {
   "cell_type": "code",
   "execution_count": 2,
   "id": "4686598f-2797-4979-9210-e759ec116a64",
   "metadata": {},
   "outputs": [],
   "source": [
    "### Se utilizará un dataset artificial que consta de 11 ciudades y su ubicación en un plano cartseiano X,Y.\n",
    "### Con la ubicación se calcula la distancia euclidiana"
   ]
  },
  {
   "cell_type": "code",
   "execution_count": 3,
   "id": "b9520d8f-72ee-4d10-8e80-76de7a5dda7d",
   "metadata": {},
   "outputs": [],
   "source": [
    "data = pd.read_csv('tsp_instance.csv', sep = ';')"
   ]
  },
  {
   "cell_type": "code",
   "execution_count": 4,
   "id": "440550ba-e644-4154-905a-a8ef83cc9f54",
   "metadata": {},
   "outputs": [
    {
     "data": {
      "text/html": [
       "<div>\n",
       "<style scoped>\n",
       "    .dataframe tbody tr th:only-of-type {\n",
       "        vertical-align: middle;\n",
       "    }\n",
       "\n",
       "    .dataframe tbody tr th {\n",
       "        vertical-align: top;\n",
       "    }\n",
       "\n",
       "    .dataframe thead th {\n",
       "        text-align: right;\n",
       "    }\n",
       "</style>\n",
       "<table border=\"1\" class=\"dataframe\">\n",
       "  <thead>\n",
       "    <tr style=\"text-align: right;\">\n",
       "      <th></th>\n",
       "      <th>ciudad</th>\n",
       "      <th>x</th>\n",
       "      <th>y</th>\n",
       "    </tr>\n",
       "  </thead>\n",
       "  <tbody>\n",
       "    <tr>\n",
       "      <th>0</th>\n",
       "      <td>a</td>\n",
       "      <td>2</td>\n",
       "      <td>5</td>\n",
       "    </tr>\n",
       "    <tr>\n",
       "      <th>1</th>\n",
       "      <td>b</td>\n",
       "      <td>10</td>\n",
       "      <td>3</td>\n",
       "    </tr>\n",
       "    <tr>\n",
       "      <th>2</th>\n",
       "      <td>c</td>\n",
       "      <td>6</td>\n",
       "      <td>6</td>\n",
       "    </tr>\n",
       "    <tr>\n",
       "      <th>3</th>\n",
       "      <td>d</td>\n",
       "      <td>3</td>\n",
       "      <td>8</td>\n",
       "    </tr>\n",
       "    <tr>\n",
       "      <th>4</th>\n",
       "      <td>e</td>\n",
       "      <td>7</td>\n",
       "      <td>1</td>\n",
       "    </tr>\n",
       "    <tr>\n",
       "      <th>5</th>\n",
       "      <td>f</td>\n",
       "      <td>14</td>\n",
       "      <td>6</td>\n",
       "    </tr>\n",
       "    <tr>\n",
       "      <th>6</th>\n",
       "      <td>g</td>\n",
       "      <td>5</td>\n",
       "      <td>4</td>\n",
       "    </tr>\n",
       "    <tr>\n",
       "      <th>7</th>\n",
       "      <td>h</td>\n",
       "      <td>9</td>\n",
       "      <td>9</td>\n",
       "    </tr>\n",
       "    <tr>\n",
       "      <th>8</th>\n",
       "      <td>i</td>\n",
       "      <td>7</td>\n",
       "      <td>11</td>\n",
       "    </tr>\n",
       "    <tr>\n",
       "      <th>9</th>\n",
       "      <td>j</td>\n",
       "      <td>12</td>\n",
       "      <td>1</td>\n",
       "    </tr>\n",
       "    <tr>\n",
       "      <th>10</th>\n",
       "      <td>k</td>\n",
       "      <td>12</td>\n",
       "      <td>8</td>\n",
       "    </tr>\n",
       "  </tbody>\n",
       "</table>\n",
       "</div>"
      ],
      "text/plain": [
       "   ciudad   x   y\n",
       "0       a   2   5\n",
       "1       b  10   3\n",
       "2       c   6   6\n",
       "3       d   3   8\n",
       "4       e   7   1\n",
       "5       f  14   6\n",
       "6       g   5   4\n",
       "7       h   9   9\n",
       "8       i   7  11\n",
       "9       j  12   1\n",
       "10      k  12   8"
      ]
     },
     "execution_count": 4,
     "metadata": {},
     "output_type": "execute_result"
    }
   ],
   "source": [
    "data"
   ]
  },
  {
   "cell_type": "code",
   "execution_count": 5,
   "id": "d4d5c5c1-5f9e-4427-a4b3-3cd3a58cc3ba",
   "metadata": {},
   "outputs": [],
   "source": [
    "# ciudades a las que se debe visitar\n",
    "cities = list(data[\"ciudad\"])"
   ]
  },
  {
   "cell_type": "code",
   "execution_count": 6,
   "id": "781988c0-b9dc-4a6f-98a7-17197deb052b",
   "metadata": {},
   "outputs": [
    {
     "data": {
      "image/png": "[encoded data removed]",
      "text/plain": [
       "<Figure size 640x480 with 1 Axes>"
      ]
     },
     "metadata": {},
     "output_type": "display_data"
    }
   ],
   "source": [
    "fig, ax = plt.subplots()\n",
    "plt.title(\"Ubicación de las ciudades\")\n",
    "ax.plot(data[\"x\"], data[\"y\"], 'yo') \n",
    "plt.xlabel('x')\n",
    "plt.ylabel('y')\n",
    "for i in range(len(data)):\n",
    "    ax.text(data[\"x\"][i], data[\"y\"][i], data['ciudad'][i], fontsize=12, ha='center')"
   ]
  },
  {
   "cell_type": "markdown",
   "id": "641ea047-04a1-42fd-b3a6-4fd00f83ab13",
   "metadata": {},
   "source": [
    "### Cálculo de la distancia euclidiana"
   ]
  },
  {
   "cell_type": "code",
   "execution_count": 7,
   "id": "3ffd4b8f-2326-4e2a-8365-63c9fd545045",
   "metadata": {},
   "outputs": [],
   "source": [
    "# distancia a la ciudad j desde la ciudad i, notar que Cij == Cji (TSP simétrico)\n",
    "distances = {}\n",
    "for i in cities:\n",
    "    for j in cities:\n",
    "        if i!=j:\n",
    "            x1 = data.loc[data[\"ciudad\"] == i, \"x\"].values[0]\n",
    "            y1 = data.loc[data[\"ciudad\"] == i, \"y\"].values[0]\n",
    "            x2 = data.loc[data[\"ciudad\"] == j, \"x\"].values[0]\n",
    "            y2 = data.loc[data[\"ciudad\"] == j, \"y\"].values[0]\n",
    "            distance = np.sqrt((x2 - x1) ** 2 + (y2 - y1) ** 2) \n",
    "        else:\n",
    "            distance = 0\n",
    "        distances[(i,j)] = distance\n",
    "        distances[(j,i)] = distance"
   ]
  },
  {
   "cell_type": "markdown",
   "id": "74118045-e1b0-4af6-bd87-299cf00fb0f0",
   "metadata": {},
   "source": [
    "### Formulación del problema de optimización"
   ]
  },
  {
   "cell_type": "code",
   "execution_count": 8,
   "id": "d3014997-f0b1-41e0-98e6-b91ceec7dde4",
   "metadata": {},
   "outputs": [],
   "source": [
    "def get_problem(costos, n ):\n",
    "    # instanciar el problema\n",
    "    problem = pulp.LpProblem(\"Minimizar_Costos_TSP\", pulp.LpMinimize)\n",
    "\n",
    "    # definición de variables\n",
    "\n",
    "    # 1 Si se va desde la ciudad i a la ciudad j, 0 si no\n",
    "    X = pulp.LpVariable.dicts(\"X\", ((i, j) for i in cities for j in cities if i!= j), lowBound=0, cat='Integer')\n",
    "\n",
    "    # contador de las ciudades visitas (MTZ)\n",
    "    U = pulp.LpVariable.dicts(\"U\", (i for i in cities), lowBound=0, cat='Continuos')\n",
    "    \n",
    "    # definición de la función objetivo: minimizar los costos\n",
    "    problem += pulp.lpSum(costos[(i,j)] * X[(i,j)] for i in cities for j in cities if i!=j)\n",
    "\n",
    "    # definicón de las restricciones\n",
    "\n",
    "    # solo se sale una vez de la ciudad i\n",
    "    for i in cities:\n",
    "        problem += pulp.lpSum(X[(i,j)] for j in cities if i!=j) == 1\n",
    "\n",
    "    # solo se llega una vez de la ciudad j\n",
    "    for j in cities:\n",
    "        problem += pulp.lpSum(X[(i,j)] for i in cities if i!=j) == 1\n",
    "\n",
    "    # eliminación de subtours MTZ\n",
    "    for i in cities[1:]:\n",
    "        for j in cities:\n",
    "            if i!=j:\n",
    "                problem += U[i] - U[j] + 1 <= (n-1) * (1-X[(i,j)])\n",
    "                \n",
    "    for i in cities[1:]:\n",
    "        2 <= U[i]\n",
    "        U[i] <= n\n",
    "        \n",
    "    return problem, X"
   ]
  },
  {
   "cell_type": "markdown",
   "id": "c48533cb-c79f-4e7d-a93c-6691eb113674",
   "metadata": {},
   "source": [
    "### Solución del problema"
   ]
  },
  {
   "cell_type": "code",
   "execution_count": 9,
   "id": "88f1d997-8682-4fbf-80a0-4a885c51267b",
   "metadata": {},
   "outputs": [],
   "source": [
    "problema, x = get_problem(distances, len(cities))"
   ]
  },
  {
   "cell_type": "code",
   "execution_count": 10,
   "id": "3edc4c42-4e11-4ea9-a137-7215553ccc64",
   "metadata": {},
   "outputs": [
    {
     "data": {
      "text/plain": [
       "1"
      ]
     },
     "execution_count": 10,
     "metadata": {},
     "output_type": "execute_result"
    }
   ],
   "source": [
    "problema.solve(pulp.PULP_CBC_CMD(msg=True))"
   ]
  },
  {
   "cell_type": "markdown",
   "id": "69db0b50-d066-4a8a-b47f-5d7d7b8ac838",
   "metadata": {},
   "source": [
    "#### Distancia Optima"
   ]
  },
  {
   "cell_type": "code",
   "execution_count": 11,
   "id": "1a333cfc-a0a3-4d7c-9573-302e95ac1005",
   "metadata": {},
   "outputs": [
    {
     "name": "stdout",
     "output_type": "stream",
     "text": [
      "Estado: Optimal\n",
      "Distancia óptima a recorrer por el vendedor: 38.76527765575526 unidades de longitud\n"
     ]
    }
   ],
   "source": [
    "# Imprimir resultados\n",
    "print(f\"Estado: {pulp.LpStatus[problema.status]}\")\n",
    "print(f\"Distancia óptima a recorrer por el vendedor: {pulp.value(problema.objective)} unidades de longitud\")"
   ]
  },
  {
   "cell_type": "markdown",
   "id": "37081ab9-9a32-42db-ab04-b4e099cb9831",
   "metadata": {},
   "source": [
    "### Ruta Optima"
   ]
  },
  {
   "cell_type": "code",
   "execution_count": 12,
   "id": "125a3bb2-506c-4981-8412-cd0df3c6df5d",
   "metadata": {},
   "outputs": [],
   "source": [
    "ruta = [\"a\"] # primera ciudad\n",
    "cont = 0\n",
    "while len(ruta) < len(cities): # si el largo de la ruta no es la cantidad de ciudades sigo bsucando las siguientes ciudades\n",
    "    for j in cities:\n",
    "        if cities[cont]!= j:\n",
    "            # busco los arcos i - j que si forman parte de la ruta optima, con valor == 1\n",
    "            # con cont y ruta, se cuál es la ultima ciudad recorrida y desde ahí comienzo a buscar cual es la siguiente\n",
    "            if  0 < x[(ruta[cont], j)].varValue:\n",
    "                ruta.append(j)\n",
    "                cont +=1\n",
    "                if len(ruta) == len(cities):\n",
    "                    break;"
   ]
  },
  {
   "cell_type": "code",
   "execution_count": 13,
   "id": "d24a8243-65d2-4efa-842f-c78a90b34b0e",
   "metadata": {},
   "outputs": [
    {
     "name": "stdout",
     "output_type": "stream",
     "text": [
      "Camino optimo: desde la ciudad  a a la ciudad  d\n",
      "Camino optimo: desde la ciudad  b a la ciudad  e\n",
      "Camino optimo: desde la ciudad  c a la ciudad  a\n",
      "Camino optimo: desde la ciudad  d a la ciudad  i\n",
      "Camino optimo: desde la ciudad  e a la ciudad  g\n",
      "Camino optimo: desde la ciudad  f a la ciudad  j\n",
      "Camino optimo: desde la ciudad  g a la ciudad  c\n",
      "Camino optimo: desde la ciudad  h a la ciudad  k\n",
      "Camino optimo: desde la ciudad  i a la ciudad  h\n",
      "Camino optimo: desde la ciudad  j a la ciudad  b\n",
      "Camino optimo: desde la ciudad  k a la ciudad  f\n"
     ]
    }
   ],
   "source": [
    "for i in cities:\n",
    "    for j in cities:\n",
    "        if i!=j:\n",
    "            if 0 < x[(i, j)].varValue :\n",
    "                print(f\"Camino optimo: desde la ciudad  {i} a la ciudad  {j}\")"
   ]
  },
  {
   "cell_type": "code",
   "execution_count": 14,
   "id": "cb0bcc3f-3d4e-4d55-adac-58ade6731504",
   "metadata": {},
   "outputs": [
    {
     "name": "stdout",
     "output_type": "stream",
     "text": [
      "La ruta optima corresponde a recorrer las ciudades en el siguiente orden: a,d,i,h,k,f,j,b,e,g,c\n"
     ]
    }
   ],
   "source": [
    "print(f\"La ruta optima corresponde a recorrer las ciudades en el siguiente orden: {','.join(ruta)}\")"
   ]
  },
  {
   "cell_type": "code",
   "execution_count": 15,
   "id": "7e74a7d9-700a-4994-b08c-81647eb5eaca",
   "metadata": {},
   "outputs": [],
   "source": [
    "orden = pd.DataFrame({\"ciudad\":ruta,\"orden\": [i for i in range(len(ruta))]})"
   ]
  },
  {
   "cell_type": "code",
   "execution_count": 16,
   "id": "b8e2fe6e-1a2c-4767-945c-9fc33120809f",
   "metadata": {},
   "outputs": [],
   "source": [
    "data = data.merge(orden, how = 'inner', on = 'ciudad')\n",
    "data = data.sort_values(by = 'orden')"
   ]
  },
  {
   "cell_type": "markdown",
   "id": "670238fc-0173-47af-8101-d1d2ba47404c",
   "metadata": {},
   "source": [
    "### Visualización Ruta Optima"
   ]
  },
  {
   "cell_type": "code",
   "execution_count": 17,
   "id": "8958d8b0-419b-4f98-a769-525e3cfec75a",
   "metadata": {},
   "outputs": [
    {
     "data": {
      "image/png": "[encoded data removed]",
      "text/plain": [
       "<Figure size 640x480 with 1 Axes>"
      ]
     },
     "metadata": {},
     "output_type": "display_data"
    }
   ],
   "source": [
    "fig, ax = plt.subplots()\n",
    "\n",
    "ax.plot(data[\"x\"], data[\"y\"], 'y-o')  # 'ko' para puntos negros\n",
    "# Añadir etiquetas\n",
    "for i in range(len(data)):\n",
    "    ax.text(data[\"x\"][i], data[\"y\"][i], data['ciudad'][i], fontsize=18, ha='center')"
   ]
  },
  {
   "cell_type": "markdown",
   "id": "f7b04d3d-c9ef-4f70-a3f4-8bc4887f28b8",
   "metadata": {},
   "source": [
    "__Nota__: Al terminar de visitar la ultima ciudad retorna al punto inicial a."
   ]
  },
  {
   "cell_type": "code",
   "execution_count": 24,
   "id": "dca4f0d4-6696-43d5-888c-ca1fbdca85cf",
   "metadata": {},
   "outputs": [],
   "source": [
    "import plotly.graph_objects as go\n",
    "import pandas as pd\n",
    "import imageio\n",
    "import os\n",
    "\n",
    "# Crear una figura\n",
    "fig = go.Figure()\n",
    "\n",
    "# Añadir la traza de puntos inicial (sin animación)\n",
    "fig.add_trace(go.Scatter(\n",
    "    x=data[\"x\"],\n",
    "    y=data[\"y\"],\n",
    "    mode='markers+text',\n",
    "    text=data['ciudad'],\n",
    "    textposition='top center',\n",
    "    marker=dict(size=10, color='yellow'),\n",
    "    name='Puntos'\n",
    "))\n",
    "\n",
    "# Crear los frames para la animación\n",
    "frames = []\n",
    "image_files = []\n",
    "\n",
    "for i in range(len(data) - 1):\n",
    "    frame_data = go.Scatter(\n",
    "        x=data[\"x\"][:i + 2],  # Agregar un punto más para la línea\n",
    "        y=data[\"y\"][:i + 2],\n",
    "        mode='markers+lines',\n",
    "        text=data['ciudad'][:i + 2],\n",
    "        textposition='top center',\n",
    "        line=dict(color='blue', width=2),\n",
    "        showlegend=False\n",
    "    )\n",
    "\n",
    "    # Crear el frame\n",
    "    fig.add_trace(frame_data)\n",
    "    fig.update_layout(\n",
    "        title='Ruta Óptima TSP',\n",
    "        xaxis_title='X',\n",
    "        yaxis_title='Y',\n",
    "        showlegend=False,\n",
    "        width=600,\n",
    "        height=600,\n",
    "        xaxis=dict(range=[0, 15]),  # Define los límites del eje x\n",
    "        yaxis=dict(range=[0, 12]),  # Define los límites del eje y\n",
    "    )\n",
    "    # Guardar la figura como imagen\n",
    "    img_path = f'frame_{i}.png'\n",
    "    fig.write_image(img_path)\n",
    "    image_files.append(img_path)\n",
    "\n",
    "    # Limpiar la figura para el siguiente frame\n",
    "    fig.data = fig.data[:-1]\n",
    "\n",
    "# Crear el GIF\n",
    "with imageio.get_writer('animacion.gif', mode='I', duration=3) as writer:\n",
    "    for image_file in image_files:\n",
    "        writer.append_data(imageio.imread(image_file))\n",
    "\n",
    "# Limpiar imágenes temporales\n",
    "for image_file in image_files:\n",
    "    os.remove(image_file)\n"
   ]
  },
  {
   "cell_type": "code",
   "execution_count": null,
   "id": "8f93b7b0-1656-4d6b-b753-134804b3071e",
   "metadata": {},
   "outputs": [],
   "source": []
  }
 ],
 "metadata": {
  "kernelspec": {
   "display_name": "Python 3 (ipykernel)",
   "language": "python",
   "name": "python3"
  },
  "language_info": {
   "codemirror_mode": {
    "name": "ipython",
    "version": 3
   },
   "file_extension": ".py",
   "mimetype": "text/x-python",
   "name": "python",
   "nbconvert_exporter": "python",
   "pygments_lexer": "ipython3",
   "version": "3.11.4"
  }
 },
 "nbformat": 4,
 "nbformat_minor": 5
}
