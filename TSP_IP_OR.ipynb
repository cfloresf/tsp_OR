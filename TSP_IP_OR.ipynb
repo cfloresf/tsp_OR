{
 "cells": [
  {
   "cell_type": "markdown",
   "id": "5ca9bb13-a4a0-483b-bb2c-79112923babb",
   "metadata": {},
   "source": [
    "# TSP: Traveling Salesman Problem"
   ]
  },
  {
   "cell_type": "markdown",
   "id": "fc25aec6-ff3f-4b37-ada8-2d2c53a5cc69",
   "metadata": {},
   "source": [
    "### Descripción del problema"
   ]
  },
  {
   "cell_type": "markdown",
   "id": "85302eef-e208-45e5-8f1e-162ad83b87f7",
   "metadata": {},
   "source": [
    "El Problema del Vendedor Viajero (TSP, por sus siglas en inglés) es un clásico problema de optimización combinatoria. La tarea consiste en encontrar la ruta más corta que permite a un viajante visitar un conjunto de ciudades, exactamente una vez, y regresar a la ciudad de origen.\n",
    "\n",
    "__Características del TSP:__\n",
    "\n",
    "* Entradas: Un conjunto de ciudades y las distancias (o costos) entre cada par de ciudades.\n",
    "* Objetivo: Minimizar la distancia total recorrida o el costo total del viaje.\n",
    "* Restricciones: Cada ciudad debe ser visitada exactamente una vez, y el viaje debe comenzar y terminar en la misma ciudad.\n",
    "\n",
    "__Dificultad:__\n",
    "El TSP es un problema NP-hard, lo que significa que no se conoce un algoritmo que pueda resolverlo en un tiempo razonable para todos los casos a medida que el número de ciudades aumenta. Por esta razón, se han desarrollado diversas aproximaciones y heurísticas, como algoritmos genéticos, algoritmos de colonia de hormigas y métodos de optimización de enjambre.\n",
    "\n",
    "__Aplicaciones:__\n",
    "El TSP tiene aplicaciones en logística, planificación de rutas, fabricación y diseño de circuitos, entre otros campos."
   ]
  },
  {
   "cell_type": "code",
   "execution_count": 70,
   "id": "0c6ff05b-34ed-458d-b8b0-a4e66be2cf47",
   "metadata": {},
   "outputs": [],
   "source": [
    "import pulp\n",
    "import pandas as pd\n",
    "import numpy as np\n",
    "import matplotlib.pyplot as plt\n",
    "import seaborn as sns"
   ]
  },
  {
   "cell_type": "code",
   "execution_count": 71,
   "id": "4686598f-2797-4979-9210-e759ec116a64",
   "metadata": {},
   "outputs": [],
   "source": [
    "### Se utilizará un dataset artificial que consta de 11 ciudades y su ubicación en un plano cartseiano X,Y.\n",
    "### Con la ubicación se calcula la distancia euclidiana"
   ]
  },
  {
   "cell_type": "code",
   "execution_count": 72,
   "id": "b9520d8f-72ee-4d10-8e80-76de7a5dda7d",
   "metadata": {},
   "outputs": [],
   "source": [
    "data = pd.read_csv('tsp_instance.csv', sep = ';')"
   ]
  },
  {
   "cell_type": "code",
   "execution_count": 73,
   "id": "440550ba-e644-4154-905a-a8ef83cc9f54",
   "metadata": {},
   "outputs": [
    {
     "data": {
      "text/html": [
       "<div>\n",
       "<style scoped>\n",
       "    .dataframe tbody tr th:only-of-type {\n",
       "        vertical-align: middle;\n",
       "    }\n",
       "\n",
       "    .dataframe tbody tr th {\n",
       "        vertical-align: top;\n",
       "    }\n",
       "\n",
       "    .dataframe thead th {\n",
       "        text-align: right;\n",
       "    }\n",
       "</style>\n",
       "<table border=\"1\" class=\"dataframe\">\n",
       "  <thead>\n",
       "    <tr style=\"text-align: right;\">\n",
       "      <th></th>\n",
       "      <th>ciudad</th>\n",
       "      <th>x</th>\n",
       "      <th>y</th>\n",
       "    </tr>\n",
       "  </thead>\n",
       "  <tbody>\n",
       "    <tr>\n",
       "      <th>0</th>\n",
       "      <td>a</td>\n",
       "      <td>2</td>\n",
       "      <td>5</td>\n",
       "    </tr>\n",
       "    <tr>\n",
       "      <th>1</th>\n",
       "      <td>b</td>\n",
       "      <td>10</td>\n",
       "      <td>3</td>\n",
       "    </tr>\n",
       "    <tr>\n",
       "      <th>2</th>\n",
       "      <td>c</td>\n",
       "      <td>6</td>\n",
       "      <td>6</td>\n",
       "    </tr>\n",
       "    <tr>\n",
       "      <th>3</th>\n",
       "      <td>d</td>\n",
       "      <td>3</td>\n",
       "      <td>8</td>\n",
       "    </tr>\n",
       "    <tr>\n",
       "      <th>4</th>\n",
       "      <td>e</td>\n",
       "      <td>7</td>\n",
       "      <td>1</td>\n",
       "    </tr>\n",
       "    <tr>\n",
       "      <th>5</th>\n",
       "      <td>f</td>\n",
       "      <td>14</td>\n",
       "      <td>6</td>\n",
       "    </tr>\n",
       "    <tr>\n",
       "      <th>6</th>\n",
       "      <td>g</td>\n",
       "      <td>5</td>\n",
       "      <td>4</td>\n",
       "    </tr>\n",
       "    <tr>\n",
       "      <th>7</th>\n",
       "      <td>h</td>\n",
       "      <td>9</td>\n",
       "      <td>9</td>\n",
       "    </tr>\n",
       "    <tr>\n",
       "      <th>8</th>\n",
       "      <td>i</td>\n",
       "      <td>7</td>\n",
       "      <td>11</td>\n",
       "    </tr>\n",
       "    <tr>\n",
       "      <th>9</th>\n",
       "      <td>j</td>\n",
       "      <td>12</td>\n",
       "      <td>1</td>\n",
       "    </tr>\n",
       "    <tr>\n",
       "      <th>10</th>\n",
       "      <td>k</td>\n",
       "      <td>12</td>\n",
       "      <td>8</td>\n",
       "    </tr>\n",
       "  </tbody>\n",
       "</table>\n",
       "</div>"
      ],
      "text/plain": [
       "   ciudad   x   y\n",
       "0       a   2   5\n",
       "1       b  10   3\n",
       "2       c   6   6\n",
       "3       d   3   8\n",
       "4       e   7   1\n",
       "5       f  14   6\n",
       "6       g   5   4\n",
       "7       h   9   9\n",
       "8       i   7  11\n",
       "9       j  12   1\n",
       "10      k  12   8"
      ]
     },
     "execution_count": 73,
     "metadata": {},
     "output_type": "execute_result"
    }
   ],
   "source": [
    "data"
   ]
  },
  {
   "cell_type": "code",
   "execution_count": 74,
   "id": "d4d5c5c1-5f9e-4427-a4b3-3cd3a58cc3ba",
   "metadata": {},
   "outputs": [],
   "source": [
    "# ciudades a las que se debe visitar\n",
    "cities = list(data[\"ciudad\"])"
   ]
  },
  {
   "cell_type": "code",
   "execution_count": 75,
   "id": "781988c0-b9dc-4a6f-98a7-17197deb052b",
   "metadata": {},
   "outputs": [
    {
     "data": {
      "image/png": "[encoded data removed]",
      "text/plain": [
       "<Figure size 640x480 with 1 Axes>"
      ]
     },
     "metadata": {},
     "output_type": "display_data"
    }
   ],
   "source": [
    "fig, ax = plt.subplots()\n",
    "plt.title(\"Ubicación de las ciudades\")\n",
    "ax.plot(data[\"x\"], data[\"y\"], 'yo') \n",
    "plt.xlabel('x')\n",
    "plt.ylabel('y')\n",
    "for i in range(len(data)):\n",
    "    ax.text(data[\"x\"][i], data[\"y\"][i], data['ciudad'][i], fontsize=12, ha='center')"
   ]
  },
  {
   "cell_type": "markdown",
   "id": "641ea047-04a1-42fd-b3a6-4fd00f83ab13",
   "metadata": {},
   "source": [
    "### Cálculo de la distancia euclidiana"
   ]
  },
  {
   "cell_type": "code",
   "execution_count": 76,
   "id": "3ffd4b8f-2326-4e2a-8365-63c9fd545045",
   "metadata": {},
   "outputs": [],
   "source": [
    "# distancia a la ciudad j desde la ciudad i, notar que Cij == Cji (TSP simétrico)\n",
    "distances = {}\n",
    "for i in cities:\n",
    "    for j in cities:\n",
    "        if i!=j:\n",
    "            x1 = data.loc[data[\"ciudad\"] == i, \"x\"].values[0]\n",
    "            y1 = data.loc[data[\"ciudad\"] == i, \"y\"].values[0]\n",
    "            x2 = data.loc[data[\"ciudad\"] == j, \"x\"].values[0]\n",
    "            y2 = data.loc[data[\"ciudad\"] == j, \"y\"].values[0]\n",
    "            distance = np.sqrt((x2 - x1) ** 2 + (y2 - y1) ** 2) \n",
    "        else:\n",
    "            distance = 0\n",
    "        distances[(i,j)] = distance\n",
    "        distances[(j,i)] = distance"
   ]
  },
  {
   "cell_type": "markdown",
   "id": "74118045-e1b0-4af6-bd87-299cf00fb0f0",
   "metadata": {},
   "source": [
    "### Formulación del problema de optimización"
   ]
  },
  {
   "cell_type": "code",
   "execution_count": 77,
   "id": "d3014997-f0b1-41e0-98e6-b91ceec7dde4",
   "metadata": {},
   "outputs": [],
   "source": [
    "def get_problem(costos, n ):\n",
    "    # instanciar el problema\n",
    "    problem = pulp.LpProblem(\"Minimizar_Costos_TSP\", pulp.LpMinimize)\n",
    "\n",
    "    # definición de variables\n",
    "\n",
    "    # 1 Si se va desde la ciudad i a la ciudad j, 0 si no\n",
    "    X = pulp.LpVariable.dicts(\"X\", ((i, j) for i in cities for j in cities if i!= j), lowBound=0, cat='Integer')\n",
    "\n",
    "    # contador de las ciudades visitas (MTZ)\n",
    "    U = pulp.LpVariable.dicts(\"U\", (i for i in cities), lowBound=0, cat='Continuos')\n",
    "    \n",
    "    # definición de la función objetivo: minimizar los costos\n",
    "    problem += pulp.lpSum(costos[(i,j)] * X[(i,j)] for i in cities for j in cities if i!=j)\n",
    "\n",
    "    # definicón de las restricciones\n",
    "\n",
    "    # solo se sale una vez de la ciudad i\n",
    "    for i in cities:\n",
    "        problem += pulp.lpSum(X[(i,j)] for j in cities if i!=j) == 1\n",
    "\n",
    "    # solo se llega una vez de la ciudad j\n",
    "    for j in cities:\n",
    "        problem += pulp.lpSum(X[(i,j)] for i in cities if i!=j) == 1\n",
    "\n",
    "    # eliminación de subtours MTZ\n",
    "    for i in cities[1:]:\n",
    "        for j in cities:\n",
    "            if i!=j:\n",
    "                problem += U[i] - U[j] + 1 <= (n-1) * (1-X[(i,j)])\n",
    "                \n",
    "    for i in cities[1:]:\n",
    "        2 <= U[i]\n",
    "        U[i] <= n\n",
    "        \n",
    "    return problem, X"
   ]
  },
  {
   "cell_type": "markdown",
   "id": "c48533cb-c79f-4e7d-a93c-6691eb113674",
   "metadata": {},
   "source": [
    "### Solución del problema"
   ]
  },
  {
   "cell_type": "code",
   "execution_count": 78,
   "id": "88f1d997-8682-4fbf-80a0-4a885c51267b",
   "metadata": {},
   "outputs": [],
   "source": [
    "problema, x = get_problem(distances, len(cities))"
   ]
  },
  {
   "cell_type": "code",
   "execution_count": 79,
   "id": "3edc4c42-4e11-4ea9-a137-7215553ccc64",
   "metadata": {},
   "outputs": [
    {
     "data": {
      "text/plain": [
       "1"
      ]
     },
     "execution_count": 79,
     "metadata": {},
     "output_type": "execute_result"
    }
   ],
   "source": [
    "problema.solve(pulp.PULP_CBC_CMD(msg=True))"
   ]
  },
  {
   "cell_type": "markdown",
   "id": "69db0b50-d066-4a8a-b47f-5d7d7b8ac838",
   "metadata": {},
   "source": [
    "#### Distancia Optima"
   ]
  },
  {
   "cell_type": "code",
   "execution_count": 80,
   "id": "1a333cfc-a0a3-4d7c-9573-302e95ac1005",
   "metadata": {},
   "outputs": [
    {
     "name": "stdout",
     "output_type": "stream",
     "text": [
      "Estado: Optimal\n",
      "Distancia óptima a recorrer por el vendedor: 38.76527765575526 unidades de longitud\n"
     ]
    }
   ],
   "source": [
    "# Imprimir resultados\n",
    "print(f\"Estado: {pulp.LpStatus[problema.status]}\")\n",
    "print(f\"Distancia óptima a recorrer por el vendedor: {pulp.value(problema.objective)} unidades de longitud\")"
   ]
  },
  {
   "cell_type": "markdown",
   "id": "37081ab9-9a32-42db-ab04-b4e099cb9831",
   "metadata": {},
   "source": [
    "### Ruta Optima"
   ]
  },
  {
   "cell_type": "code",
   "execution_count": 81,
   "id": "125a3bb2-506c-4981-8412-cd0df3c6df5d",
   "metadata": {},
   "outputs": [],
   "source": [
    "ruta = [\"a\"] # primera ciudad\n",
    "cont = 0\n",
    "while len(ruta) < len(cities): # si el largo de la ruta no es la cantidad de ciudades sigo bsucando las siguientes ciudades\n",
    "    for j in cities:\n",
    "        if cities[cont]!= j:\n",
    "            # busco los arcos i - j que si forman parte de la ruta optima, con valor == 1\n",
    "            # con cont y ruta, se cuál es la ultima ciudad recorrida y desde ahí comienzo a buscar cual es la siguiente\n",
    "            if  0 < x[(ruta[cont], j)].varValue:\n",
    "                ruta.append(j)\n",
    "                cont +=1\n",
    "                if len(ruta) == len(cities):\n",
    "                    break;"
   ]
  },
  {
   "cell_type": "code",
   "execution_count": 82,
   "id": "d24a8243-65d2-4efa-842f-c78a90b34b0e",
   "metadata": {},
   "outputs": [
    {
     "name": "stdout",
     "output_type": "stream",
     "text": [
      "Camino optimo: desde la ciudad  a a la ciudad  d\n",
      "Camino optimo: desde la ciudad  b a la ciudad  e\n",
      "Camino optimo: desde la ciudad  c a la ciudad  a\n",
      "Camino optimo: desde la ciudad  d a la ciudad  i\n",
      "Camino optimo: desde la ciudad  e a la ciudad  g\n",
      "Camino optimo: desde la ciudad  f a la ciudad  j\n",
      "Camino optimo: desde la ciudad  g a la ciudad  c\n",
      "Camino optimo: desde la ciudad  h a la ciudad  k\n",
      "Camino optimo: desde la ciudad  i a la ciudad  h\n",
      "Camino optimo: desde la ciudad  j a la ciudad  b\n",
      "Camino optimo: desde la ciudad  k a la ciudad  f\n"
     ]
    }
   ],
   "source": [
    "for i in cities:\n",
    "    for j in cities:\n",
    "        if i!=j:\n",
    "            if 0 < x[(i, j)].varValue :\n",
    "                print(f\"Camino optimo: desde la ciudad  {i} a la ciudad  {j}\")"
   ]
  },
  {
   "cell_type": "code",
   "execution_count": 83,
   "id": "cb0bcc3f-3d4e-4d55-adac-58ade6731504",
   "metadata": {},
   "outputs": [
    {
     "name": "stdout",
     "output_type": "stream",
     "text": [
      "La ruta optima corresponde a recorrer las ciudades en el siguiente orden: a,d,i,h,k,f,j,b,e,g,c\n"
     ]
    }
   ],
   "source": [
    "print(f\"La ruta optima corresponde a recorrer las ciudades en el siguiente orden: {','.join(ruta)}\")"
   ]
  },
  {
   "cell_type": "code",
   "execution_count": 84,
   "id": "7e74a7d9-700a-4994-b08c-81647eb5eaca",
   "metadata": {},
   "outputs": [],
   "source": [
    "orden = pd.DataFrame({\"ciudad\":ruta,\"orden\": [i for i in range(len(ruta))]})"
   ]
  },
  {
   "cell_type": "code",
   "execution_count": 85,
   "id": "b8e2fe6e-1a2c-4767-945c-9fc33120809f",
   "metadata": {},
   "outputs": [],
   "source": [
    "data = data.merge(orden, how = 'inner', on = 'ciudad')\n",
    "data = data.sort_values(by = 'orden')"
   ]
  },
  {
   "cell_type": "markdown",
   "id": "670238fc-0173-47af-8101-d1d2ba47404c",
   "metadata": {},
   "source": [
    "### Visualización Ruta Optima"
   ]
  },
  {
   "cell_type": "code",
   "execution_count": 86,
   "id": "8958d8b0-419b-4f98-a769-525e3cfec75a",
   "metadata": {},
   "outputs": [
    {
     "data": {
      "image/png": "[encoded data removed]",
      "text/plain": [
       "<Figure size 640x480 with 1 Axes>"
      ]
     },
     "metadata": {},
     "output_type": "display_data"
    }
   ],
   "source": [
    "fig, ax = plt.subplots()\n",
    "\n",
    "ax.plot(data[\"x\"], data[\"y\"], 'y-o')  # 'ko' para puntos negros\n",
    "# Añadir etiquetas\n",
    "for i in range(len(data)):\n",
    "    ax.text(data[\"x\"][i], data[\"y\"][i], data['ciudad'][i], fontsize=18, ha='center')"
   ]
  },
  {
   "cell_type": "markdown",
   "id": "f7b04d3d-c9ef-4f70-a3f4-8bc4887f28b8",
   "metadata": {},
   "source": [
    "__Nota__: Al terminar de visitar la ultima ciudad retorna al punto inicial a."
   ]
  },
  {
   "cell_type": "code",
   "execution_count": 89,
   "id": "a9483929-60be-4345-aba8-448d3ef4d901",
   "metadata": {},
   "outputs": [
    {
     "data": {
      "application/vnd.plotly.v1+json": {
       "config": {
        "plotlyServerURL": "https://plot.ly"
       },
       "data": [
        {
         "marker": {
          "color": "yellow",
          "size": 10
         },
         "mode": "markers+lines+text",
         "text": [
          "a"
         ],
         "textposition": "top center",
         "type": "scatter",
         "x": [
          2
         ],
         "y": [
          5
         ]
        }
       ],
       "frames": [
        {
         "data": [
          {
           "marker": {
            "color": "yellow",
            "size": 10
           },
           "mode": "markers+lines+text",
           "text": [
            "a"
           ],
           "textposition": "top center",
           "type": "scatter",
           "x": [
            2
           ],
           "y": [
            5
           ]
          }
         ]
        },
        {
         "data": [
          {
           "marker": {
            "color": "yellow",
            "size": 10
           },
           "mode": "markers+lines+text",
           "text": [
            "a",
            "d"
           ],
           "textposition": "top center",
           "type": "scatter",
           "x": [
            2,
            3
           ],
           "y": [
            5,
            8
           ]
          }
         ]
        },
        {
         "data": [
          {
           "marker": {
            "color": "yellow",
            "size": 10
           },
           "mode": "markers+lines+text",
           "text": [
            "a",
            "d",
            "i"
           ],
           "textposition": "top center",
           "type": "scatter",
           "x": [
            2,
            3,
            7
           ],
           "y": [
            5,
            8,
            11
           ]
          }
         ]
        },
        {
         "data": [
          {
           "marker": {
            "color": "yellow",
            "size": 10
           },
           "mode": "markers+lines+text",
           "text": [
            "a",
            "d",
            "i",
            "h"
           ],
           "textposition": "top center",
           "type": "scatter",
           "x": [
            2,
            3,
            7,
            9
           ],
           "y": [
            5,
            8,
            11,
            9
           ]
          }
         ]
        },
        {
         "data": [
          {
           "marker": {
            "color": "yellow",
            "size": 10
           },
           "mode": "markers+lines+text",
           "text": [
            "a",
            "d",
            "i",
            "h",
            "k"
           ],
           "textposition": "top center",
           "type": "scatter",
           "x": [
            2,
            3,
            7,
            9,
            12
           ],
           "y": [
            5,
            8,
            11,
            9,
            8
           ]
          }
         ]
        },
        {
         "data": [
          {
           "marker": {
            "color": "yellow",
            "size": 10
           },
           "mode": "markers+lines+text",
           "text": [
            "a",
            "d",
            "i",
            "h",
            "k",
            "f"
           ],
           "textposition": "top center",
           "type": "scatter",
           "x": [
            2,
            3,
            7,
            9,
            12,
            14
           ],
           "y": [
            5,
            8,
            11,
            9,
            8,
            6
           ]
          }
         ]
        },
        {
         "data": [
          {
           "marker": {
            "color": "yellow",
            "size": 10
           },
           "mode": "markers+lines+text",
           "text": [
            "a",
            "d",
            "i",
            "h",
            "k",
            "f",
            "j"
           ],
           "textposition": "top center",
           "type": "scatter",
           "x": [
            2,
            3,
            7,
            9,
            12,
            14,
            12
           ],
           "y": [
            5,
            8,
            11,
            9,
            8,
            6,
            1
           ]
          }
         ]
        },
        {
         "data": [
          {
           "marker": {
            "color": "yellow",
            "size": 10
           },
           "mode": "markers+lines+text",
           "text": [
            "a",
            "d",
            "i",
            "h",
            "k",
            "f",
            "j",
            "b"
           ],
           "textposition": "top center",
           "type": "scatter",
           "x": [
            2,
            3,
            7,
            9,
            12,
            14,
            12,
            10
           ],
           "y": [
            5,
            8,
            11,
            9,
            8,
            6,
            1,
            3
           ]
          }
         ]
        },
        {
         "data": [
          {
           "marker": {
            "color": "yellow",
            "size": 10
           },
           "mode": "markers+lines+text",
           "text": [
            "a",
            "d",
            "i",
            "h",
            "k",
            "f",
            "j",
            "b",
            "e"
           ],
           "textposition": "top center",
           "type": "scatter",
           "x": [
            2,
            3,
            7,
            9,
            12,
            14,
            12,
            10,
            7
           ],
           "y": [
            5,
            8,
            11,
            9,
            8,
            6,
            1,
            3,
            1
           ]
          }
         ]
        },
        {
         "data": [
          {
           "marker": {
            "color": "yellow",
            "size": 10
           },
           "mode": "markers+lines+text",
           "text": [
            "a",
            "d",
            "i",
            "h",
            "k",
            "f",
            "j",
            "b",
            "e",
            "g"
           ],
           "textposition": "top center",
           "type": "scatter",
           "x": [
            2,
            3,
            7,
            9,
            12,
            14,
            12,
            10,
            7,
            5
           ],
           "y": [
            5,
            8,
            11,
            9,
            8,
            6,
            1,
            3,
            1,
            4
           ]
          }
         ]
        },
        {
         "data": [
          {
           "marker": {
            "color": "yellow",
            "size": 10
           },
           "mode": "markers+lines+text",
           "text": [
            "a",
            "d",
            "i",
            "h",
            "k",
            "f",
            "j",
            "b",
            "e",
            "g",
            "c"
           ],
           "textposition": "top center",
           "type": "scatter",
           "x": [
            2,
            3,
            7,
            9,
            12,
            14,
            12,
            10,
            7,
            5,
            6
           ],
           "y": [
            5,
            8,
            11,
            9,
            8,
            6,
            1,
            3,
            1,
            4,
            6
           ]
          }
         ]
        }
       ],
       "layout": {
        "height": 600,
        "showlegend": false,
        "template": {
         "data": {
          "bar": [
           {
            "error_x": {
             "color": "#2a3f5f"
            },
            "error_y": {
             "color": "#2a3f5f"
            },
            "marker": {
             "line": {
              "color": "#E5ECF6",
              "width": 0.5
             },
             "pattern": {
              "fillmode": "overlay",
              "size": 10,
              "solidity": 0.2
             }
            },
            "type": "bar"
           }
          ],
          "barpolar": [
           {
            "marker": {
             "line": {
              "color": "#E5ECF6",
              "width": 0.5
             },
             "pattern": {
              "fillmode": "overlay",
              "size": 10,
              "solidity": 0.2
             }
            },
            "type": "barpolar"
           }
          ],
          "carpet": [
           {
            "aaxis": {
             "endlinecolor": "#2a3f5f",
             "gridcolor": "white",
             "linecolor": "white",
             "minorgridcolor": "white",
             "startlinecolor": "#2a3f5f"
            },
            "baxis": {
             "endlinecolor": "#2a3f5f",
             "gridcolor": "white",
             "linecolor": "white",
             "minorgridcolor": "white",
             "startlinecolor": "#2a3f5f"
            },
            "type": "carpet"
           }
          ],
          "choropleth": [
           {
            "colorbar": {
             "outlinewidth": 0,
             "ticks": ""
            },
            "type": "choropleth"
           }
          ],
          "contour": [
           {
            "colorbar": {
             "outlinewidth": 0,
             "ticks": ""
            },
            "colorscale": [
             [
              0,
              "#0d0887"
             ],
             [
              0.1111111111111111,
              "#46039f"
             ],
             [
              0.2222222222222222,
              "#7201a8"
             ],
             [
              0.3333333333333333,
              "#9c179e"
             ],
             [
              0.4444444444444444,
              "#bd3786"
             ],
             [
              0.5555555555555556,
              "#d8576b"
             ],
             [
              0.6666666666666666,
              "#ed7953"
             ],
             [
              0.7777777777777778,
              "#fb9f3a"
             ],
             [
              0.8888888888888888,
              "#fdca26"
             ],
             [
              1,
              "#f0f921"
             ]
            ],
            "type": "contour"
           }
          ],
          "contourcarpet": [
           {
            "colorbar": {
             "outlinewidth": 0,
             "ticks": ""
            },
            "type": "contourcarpet"
           }
          ],
          "heatmap": [
           {
            "colorbar": {
             "outlinewidth": 0,
             "ticks": ""
            },
            "colorscale": [
             [
              0,
              "#0d0887"
             ],
             [
              0.1111111111111111,
              "#46039f"
             ],
             [
              0.2222222222222222,
              "#7201a8"
             ],
             [
              0.3333333333333333,
              "#9c179e"
             ],
             [
              0.4444444444444444,
              "#bd3786"
             ],
             [
              0.5555555555555556,
              "#d8576b"
             ],
             [
              0.6666666666666666,
              "#ed7953"
             ],
             [
              0.7777777777777778,
              "#fb9f3a"
             ],
             [
              0.8888888888888888,
              "#fdca26"
             ],
             [
              1,
              "#f0f921"
             ]
            ],
            "type": "heatmap"
           }
          ],
          "heatmapgl": [
           {
            "colorbar": {
             "outlinewidth": 0,
             "ticks": ""
            },
            "colorscale": [
             [
              0,
              "#0d0887"
             ],
             [
              0.1111111111111111,
              "#46039f"
             ],
             [
              0.2222222222222222,
              "#7201a8"
             ],
             [
              0.3333333333333333,
              "#9c179e"
             ],
             [
              0.4444444444444444,
              "#bd3786"
             ],
             [
              0.5555555555555556,
              "#d8576b"
             ],
             [
              0.6666666666666666,
              "#ed7953"
             ],
             [
              0.7777777777777778,
              "#fb9f3a"
             ],
             [
              0.8888888888888888,
              "#fdca26"
             ],
             [
              1,
              "#f0f921"
             ]
            ],
            "type": "heatmapgl"
           }
          ],
          "histogram": [
           {
            "marker": {
             "pattern": {
              "fillmode": "overlay",
              "size": 10,
              "solidity": 0.2
             }
            },
            "type": "histogram"
           }
          ],
          "histogram2d": [
           {
            "colorbar": {
             "outlinewidth": 0,
             "ticks": ""
            },
            "colorscale": [
             [
              0,
              "#0d0887"
             ],
             [
              0.1111111111111111,
              "#46039f"
             ],
             [
              0.2222222222222222,
              "#7201a8"
             ],
             [
              0.3333333333333333,
              "#9c179e"
             ],
             [
              0.4444444444444444,
              "#bd3786"
             ],
             [
              0.5555555555555556,
              "#d8576b"
             ],
             [
              0.6666666666666666,
              "#ed7953"
             ],
             [
              0.7777777777777778,
              "#fb9f3a"
             ],
             [
              0.8888888888888888,
              "#fdca26"
             ],
             [
              1,
              "#f0f921"
             ]
            ],
            "type": "histogram2d"
           }
          ],
          "histogram2dcontour": [
           {
            "colorbar": {
             "outlinewidth": 0,
             "ticks": ""
            },
            "colorscale": [
             [
              0,
              "#0d0887"
             ],
             [
              0.1111111111111111,
              "#46039f"
             ],
             [
              0.2222222222222222,
              "#7201a8"
             ],
             [
              0.3333333333333333,
              "#9c179e"
             ],
             [
              0.4444444444444444,
              "#bd3786"
             ],
             [
              0.5555555555555556,
              "#d8576b"
             ],
             [
              0.6666666666666666,
              "#ed7953"
             ],
             [
              0.7777777777777778,
              "#fb9f3a"
             ],
             [
              0.8888888888888888,
              "#fdca26"
             ],
             [
              1,
              "#f0f921"
             ]
            ],
            "type": "histogram2dcontour"
           }
          ],
          "mesh3d": [
           {
            "colorbar": {
             "outlinewidth": 0,
             "ticks": ""
            },
            "type": "mesh3d"
           }
          ],
          "parcoords": [
           {
            "line": {
             "colorbar": {
              "outlinewidth": 0,
              "ticks": ""
             }
            },
            "type": "parcoords"
           }
          ],
          "pie": [
           {
            "automargin": true,
            "type": "pie"
           }
          ],
          "scatter": [
           {
            "fillpattern": {
             "fillmode": "overlay",
             "size": 10,
             "solidity": 0.2
            },
            "type": "scatter"
           }
          ],
          "scatter3d": [
           {
            "line": {
             "colorbar": {
              "outlinewidth": 0,
              "ticks": ""
             }
            },
            "marker": {
             "colorbar": {
              "outlinewidth": 0,
              "ticks": ""
             }
            },
            "type": "scatter3d"
           }
          ],
          "scattercarpet": [
           {
            "marker": {
             "colorbar": {
              "outlinewidth": 0,
              "ticks": ""
             }
            },
            "type": "scattercarpet"
           }
          ],
          "scattergeo": [
           {
            "marker": {
             "colorbar": {
              "outlinewidth": 0,
              "ticks": ""
             }
            },
            "type": "scattergeo"
           }
          ],
          "scattergl": [
           {
            "marker": {
             "colorbar": {
              "outlinewidth": 0,
              "ticks": ""
             }
            },
            "type": "scattergl"
           }
          ],
          "scattermapbox": [
           {
            "marker": {
             "colorbar": {
              "outlinewidth": 0,
              "ticks": ""
             }
            },
            "type": "scattermapbox"
           }
          ],
          "scatterpolar": [
           {
            "marker": {
             "colorbar": {
              "outlinewidth": 0,
              "ticks": ""
             }
            },
            "type": "scatterpolar"
           }
          ],
          "scatterpolargl": [
           {
            "marker": {
             "colorbar": {
              "outlinewidth": 0,
              "ticks": ""
             }
            },
            "type": "scatterpolargl"
           }
          ],
          "scatterternary": [
           {
            "marker": {
             "colorbar": {
              "outlinewidth": 0,
              "ticks": ""
             }
            },
            "type": "scatterternary"
           }
          ],
          "surface": [
           {
            "colorbar": {
             "outlinewidth": 0,
             "ticks": ""
            },
            "colorscale": [
             [
              0,
              "#0d0887"
             ],
             [
              0.1111111111111111,
              "#46039f"
             ],
             [
              0.2222222222222222,
              "#7201a8"
             ],
             [
              0.3333333333333333,
              "#9c179e"
             ],
             [
              0.4444444444444444,
              "#bd3786"
             ],
             [
              0.5555555555555556,
              "#d8576b"
             ],
             [
              0.6666666666666666,
              "#ed7953"
             ],
             [
              0.7777777777777778,
              "#fb9f3a"
             ],
             [
              0.8888888888888888,
              "#fdca26"
             ],
             [
              1,
              "#f0f921"
             ]
            ],
            "type": "surface"
           }
          ],
          "table": [
           {
            "cells": {
             "fill": {
              "color": "#EBF0F8"
             },
             "line": {
              "color": "white"
             }
            },
            "header": {
             "fill": {
              "color": "#C8D4E3"
             },
             "line": {
              "color": "white"
             }
            },
            "type": "table"
           }
          ]
         },
         "layout": {
          "annotationdefaults": {
           "arrowcolor": "#2a3f5f",
           "arrowhead": 0,
           "arrowwidth": 1
          },
          "autotypenumbers": "strict",
          "coloraxis": {
           "colorbar": {
            "outlinewidth": 0,
            "ticks": ""
           }
          },
          "colorscale": {
           "diverging": [
            [
             0,
             "#8e0152"
            ],
            [
             0.1,
             "#c51b7d"
            ],
            [
             0.2,
             "#de77ae"
            ],
            [
             0.3,
             "#f1b6da"
            ],
            [
             0.4,
             "#fde0ef"
            ],
            [
             0.5,
             "#f7f7f7"
            ],
            [
             0.6,
             "#e6f5d0"
            ],
            [
             0.7,
             "#b8e186"
            ],
            [
             0.8,
             "#7fbc41"
            ],
            [
             0.9,
             "#4d9221"
            ],
            [
             1,
             "#276419"
            ]
           ],
           "sequential": [
            [
             0,
             "#0d0887"
            ],
            [
             0.1111111111111111,
             "#46039f"
            ],
            [
             0.2222222222222222,
             "#7201a8"
            ],
            [
             0.3333333333333333,
             "#9c179e"
            ],
            [
             0.4444444444444444,
             "#bd3786"
            ],
            [
             0.5555555555555556,
             "#d8576b"
            ],
            [
             0.6666666666666666,
             "#ed7953"
            ],
            [
             0.7777777777777778,
             "#fb9f3a"
            ],
            [
             0.8888888888888888,
             "#fdca26"
            ],
            [
             1,
             "#f0f921"
            ]
           ],
           "sequentialminus": [
            [
             0,
             "#0d0887"
            ],
            [
             0.1111111111111111,
             "#46039f"
            ],
            [
             0.2222222222222222,
             "#7201a8"
            ],
            [
             0.3333333333333333,
             "#9c179e"
            ],
            [
             0.4444444444444444,
             "#bd3786"
            ],
            [
             0.5555555555555556,
             "#d8576b"
            ],
            [
             0.6666666666666666,
             "#ed7953"
            ],
            [
             0.7777777777777778,
             "#fb9f3a"
            ],
            [
             0.8888888888888888,
             "#fdca26"
            ],
            [
             1,
             "#f0f921"
            ]
           ]
          },
          "colorway": [
           "#636efa",
           "#EF553B",
           "#00cc96",
           "#ab63fa",
           "#FFA15A",
           "#19d3f3",
           "#FF6692",
           "#B6E880",
           "#FF97FF",
           "#FECB52"
          ],
          "font": {
           "color": "#2a3f5f"
          },
          "geo": {
           "bgcolor": "white",
           "lakecolor": "white",
           "landcolor": "#E5ECF6",
           "showlakes": true,
           "showland": true,
           "subunitcolor": "white"
          },
          "hoverlabel": {
           "align": "left"
          },
          "hovermode": "closest",
          "mapbox": {
           "style": "light"
          },
          "paper_bgcolor": "white",
          "plot_bgcolor": "#E5ECF6",
          "polar": {
           "angularaxis": {
            "gridcolor": "white",
            "linecolor": "white",
            "ticks": ""
           },
           "bgcolor": "#E5ECF6",
           "radialaxis": {
            "gridcolor": "white",
            "linecolor": "white",
            "ticks": ""
           }
          },
          "scene": {
           "xaxis": {
            "backgroundcolor": "#E5ECF6",
            "gridcolor": "white",
            "gridwidth": 2,
            "linecolor": "white",
            "showbackground": true,
            "ticks": "",
            "zerolinecolor": "white"
           },
           "yaxis": {
            "backgroundcolor": "#E5ECF6",
            "gridcolor": "white",
            "gridwidth": 2,
            "linecolor": "white",
            "showbackground": true,
            "ticks": "",
            "zerolinecolor": "white"
           },
           "zaxis": {
            "backgroundcolor": "#E5ECF6",
            "gridcolor": "white",
            "gridwidth": 2,
            "linecolor": "white",
            "showbackground": true,
            "ticks": "",
            "zerolinecolor": "white"
           }
          },
          "shapedefaults": {
           "line": {
            "color": "#2a3f5f"
           }
          },
          "ternary": {
           "aaxis": {
            "gridcolor": "white",
            "linecolor": "white",
            "ticks": ""
           },
           "baxis": {
            "gridcolor": "white",
            "linecolor": "white",
            "ticks": ""
           },
           "bgcolor": "#E5ECF6",
           "caxis": {
            "gridcolor": "white",
            "linecolor": "white",
            "ticks": ""
           }
          },
          "title": {
           "x": 0.05
          },
          "xaxis": {
           "automargin": true,
           "gridcolor": "white",
           "linecolor": "white",
           "ticks": "",
           "title": {
            "standoff": 15
           },
           "zerolinecolor": "white",
           "zerolinewidth": 2
          },
          "yaxis": {
           "automargin": true,
           "gridcolor": "white",
           "linecolor": "white",
           "ticks": "",
           "title": {
            "standoff": 15
           },
           "zerolinecolor": "white",
           "zerolinewidth": 2
          }
         }
        },
        "title": {
         "text": "Ruta Optima TSP"
        },
        "updatemenus": [
         {
          "buttons": [
           {
            "args": [
             null,
             {
              "frame": {
               "duration": 500,
               "redraw": true
              },
              "mode": "immediate",
              "transition": {
               "duration": 0
              }
             }
            ],
            "label": "Play",
            "method": "animate"
           },
           {
            "args": [
             [
              null
             ],
             {
              "frame": {
               "duration": 0,
               "redraw": true
              },
              "mode": "immediate",
              "transition": {
               "duration": 0
              }
             }
            ],
            "label": "Pause",
            "method": "animate"
           }
          ],
          "direction": "left",
          "pad": {
           "r": 10,
           "t": 87
          },
          "showactive": false,
          "type": "buttons",
          "x": 0.1,
          "xanchor": "right",
          "y": 0,
          "yanchor": "top"
         }
        ],
        "width": 600,
        "xaxis": {
         "range": [
          0,
          15
         ],
         "title": {
          "text": "X"
         },
         "type": "linear"
        },
        "yaxis": {
         "range": [
          0,
          12
         ],
         "title": {
          "text": "Y"
         },
         "type": "linear"
        }
       }
      },
      "image/png": "[encoded data removed]",
      "text/html": [
       "<div>                            <div id=\"6642198d-525c-458e-936d-669a1942509b\" class=\"plotly-graph-div\" style=\"height:600px; width:600px;\"></div>            <script type=\"text/javascript\">                require([\"plotly\"], function(Plotly) {                    window.PLOTLYENV=window.PLOTLYENV || {};                                    if (document.getElementById(\"6642198d-525c-458e-936d-669a1942509b\")) {                    Plotly.newPlot(                        \"6642198d-525c-458e-936d-669a1942509b\",                        [{\"marker\":{\"color\":\"yellow\",\"size\":10},\"mode\":\"markers+lines+text\",\"text\":[\"a\"],\"textposition\":\"top center\",\"x\":[2],\"y\":[5],\"type\":\"scatter\"}],                        {\"template\":{\"data\":{\"histogram2dcontour\":[{\"type\":\"histogram2dcontour\",\"colorbar\":{\"outlinewidth\":0,\"ticks\":\"\"},\"colorscale\":[[0.0,\"#0d0887\"],[0.1111111111111111,\"#46039f\"],[0.2222222222222222,\"#7201a8\"],[0.3333333333333333,\"#9c179e\"],[0.4444444444444444,\"#bd3786\"],[0.5555555555555556,\"#d8576b\"],[0.6666666666666666,\"#ed7953\"],[0.7777777777777778,\"#fb9f3a\"],[0.8888888888888888,\"#fdca26\"],[1.0,\"#f0f921\"]]}],\"choropleth\":[{\"type\":\"choropleth\",\"colorbar\":{\"outlinewidth\":0,\"ticks\":\"\"}}],\"histogram2d\":[{\"type\":\"histogram2d\",\"colorbar\":{\"outlinewidth\":0,\"ticks\":\"\"},\"colorscale\":[[0.0,\"#0d0887\"],[0.1111111111111111,\"#46039f\"],[0.2222222222222222,\"#7201a8\"],[0.3333333333333333,\"#9c179e\"],[0.4444444444444444,\"#bd3786\"],[0.5555555555555556,\"#d8576b\"],[0.6666666666666666,\"#ed7953\"],[0.7777777777777778,\"#fb9f3a\"],[0.8888888888888888,\"#fdca26\"],[1.0,\"#f0f921\"]]}],\"heatmap\":[{\"type\":\"heatmap\",\"colorbar\":{\"outlinewidth\":0,\"ticks\":\"\"},\"colorscale\":[[0.0,\"#0d0887\"],[0.1111111111111111,\"#46039f\"],[0.2222222222222222,\"#7201a8\"],[0.3333333333333333,\"#9c179e\"],[0.4444444444444444,\"#bd3786\"],[0.5555555555555556,\"#d8576b\"],[0.6666666666666666,\"#ed7953\"],[0.7777777777777778,\"#fb9f3a\"],[0.8888888888888888,\"#fdca26\"],[1.0,\"#f0f921\"]]}],\"heatmapgl\":[{\"type\":\"heatmapgl\",\"colorbar\":{\"outlinewidth\":0,\"ticks\":\"\"},\"colorscale\":[[0.0,\"#0d0887\"],[0.1111111111111111,\"#46039f\"],[0.2222222222222222,\"#7201a8\"],[0.3333333333333333,\"#9c179e\"],[0.4444444444444444,\"#bd3786\"],[0.5555555555555556,\"#d8576b\"],[0.6666666666666666,\"#ed7953\"],[0.7777777777777778,\"#fb9f3a\"],[0.8888888888888888,\"#fdca26\"],[1.0,\"#f0f921\"]]}],\"contourcarpet\":[{\"type\":\"contourcarpet\",\"colorbar\":{\"outlinewidth\":0,\"ticks\":\"\"}}],\"contour\":[{\"type\":\"contour\",\"colorbar\":{\"outlinewidth\":0,\"ticks\":\"\"},\"colorscale\":[[0.0,\"#0d0887\"],[0.1111111111111111,\"#46039f\"],[0.2222222222222222,\"#7201a8\"],[0.3333333333333333,\"#9c179e\"],[0.4444444444444444,\"#bd3786\"],[0.5555555555555556,\"#d8576b\"],[0.6666666666666666,\"#ed7953\"],[0.7777777777777778,\"#fb9f3a\"],[0.8888888888888888,\"#fdca26\"],[1.0,\"#f0f921\"]]}],\"surface\":[{\"type\":\"surface\",\"colorbar\":{\"outlinewidth\":0,\"ticks\":\"\"},\"colorscale\":[[0.0,\"#0d0887\"],[0.1111111111111111,\"#46039f\"],[0.2222222222222222,\"#7201a8\"],[0.3333333333333333,\"#9c179e\"],[0.4444444444444444,\"#bd3786\"],[0.5555555555555556,\"#d8576b\"],[0.6666666666666666,\"#ed7953\"],[0.7777777777777778,\"#fb9f3a\"],[0.8888888888888888,\"#fdca26\"],[1.0,\"#f0f921\"]]}],\"mesh3d\":[{\"type\":\"mesh3d\",\"colorbar\":{\"outlinewidth\":0,\"ticks\":\"\"}}],\"scatter\":[{\"fillpattern\":{\"fillmode\":\"overlay\",\"size\":10,\"solidity\":0.2},\"type\":\"scatter\"}],\"parcoords\":[{\"type\":\"parcoords\",\"line\":{\"colorbar\":{\"outlinewidth\":0,\"ticks\":\"\"}}}],\"scatterpolargl\":[{\"type\":\"scatterpolargl\",\"marker\":{\"colorbar\":{\"outlinewidth\":0,\"ticks\":\"\"}}}],\"bar\":[{\"error_x\":{\"color\":\"#2a3f5f\"},\"error_y\":{\"color\":\"#2a3f5f\"},\"marker\":{\"line\":{\"color\":\"#E5ECF6\",\"width\":0.5},\"pattern\":{\"fillmode\":\"overlay\",\"size\":10,\"solidity\":0.2}},\"type\":\"bar\"}],\"scattergeo\":[{\"type\":\"scattergeo\",\"marker\":{\"colorbar\":{\"outlinewidth\":0,\"ticks\":\"\"}}}],\"scatterpolar\":[{\"type\":\"scatterpolar\",\"marker\":{\"colorbar\":{\"outlinewidth\":0,\"ticks\":\"\"}}}],\"histogram\":[{\"marker\":{\"pattern\":{\"fillmode\":\"overlay\",\"size\":10,\"solidity\":0.2}},\"type\":\"histogram\"}],\"scattergl\":[{\"type\":\"scattergl\",\"marker\":{\"colorbar\":{\"outlinewidth\":0,\"ticks\":\"\"}}}],\"scatter3d\":[{\"type\":\"scatter3d\",\"line\":{\"colorbar\":{\"outlinewidth\":0,\"ticks\":\"\"}},\"marker\":{\"colorbar\":{\"outlinewidth\":0,\"ticks\":\"\"}}}],\"scattermapbox\":[{\"type\":\"scattermapbox\",\"marker\":{\"colorbar\":{\"outlinewidth\":0,\"ticks\":\"\"}}}],\"scatterternary\":[{\"type\":\"scatterternary\",\"marker\":{\"colorbar\":{\"outlinewidth\":0,\"ticks\":\"\"}}}],\"scattercarpet\":[{\"type\":\"scattercarpet\",\"marker\":{\"colorbar\":{\"outlinewidth\":0,\"ticks\":\"\"}}}],\"carpet\":[{\"aaxis\":{\"endlinecolor\":\"#2a3f5f\",\"gridcolor\":\"white\",\"linecolor\":\"white\",\"minorgridcolor\":\"white\",\"startlinecolor\":\"#2a3f5f\"},\"baxis\":{\"endlinecolor\":\"#2a3f5f\",\"gridcolor\":\"white\",\"linecolor\":\"white\",\"minorgridcolor\":\"white\",\"startlinecolor\":\"#2a3f5f\"},\"type\":\"carpet\"}],\"table\":[{\"cells\":{\"fill\":{\"color\":\"#EBF0F8\"},\"line\":{\"color\":\"white\"}},\"header\":{\"fill\":{\"color\":\"#C8D4E3\"},\"line\":{\"color\":\"white\"}},\"type\":\"table\"}],\"barpolar\":[{\"marker\":{\"line\":{\"color\":\"#E5ECF6\",\"width\":0.5},\"pattern\":{\"fillmode\":\"overlay\",\"size\":10,\"solidity\":0.2}},\"type\":\"barpolar\"}],\"pie\":[{\"automargin\":true,\"type\":\"pie\"}]},\"layout\":{\"autotypenumbers\":\"strict\",\"colorway\":[\"#636efa\",\"#EF553B\",\"#00cc96\",\"#ab63fa\",\"#FFA15A\",\"#19d3f3\",\"#FF6692\",\"#B6E880\",\"#FF97FF\",\"#FECB52\"],\"font\":{\"color\":\"#2a3f5f\"},\"hovermode\":\"closest\",\"hoverlabel\":{\"align\":\"left\"},\"paper_bgcolor\":\"white\",\"plot_bgcolor\":\"#E5ECF6\",\"polar\":{\"bgcolor\":\"#E5ECF6\",\"angularaxis\":{\"gridcolor\":\"white\",\"linecolor\":\"white\",\"ticks\":\"\"},\"radialaxis\":{\"gridcolor\":\"white\",\"linecolor\":\"white\",\"ticks\":\"\"}},\"ternary\":{\"bgcolor\":\"#E5ECF6\",\"aaxis\":{\"gridcolor\":\"white\",\"linecolor\":\"white\",\"ticks\":\"\"},\"baxis\":{\"gridcolor\":\"white\",\"linecolor\":\"white\",\"ticks\":\"\"},\"caxis\":{\"gridcolor\":\"white\",\"linecolor\":\"white\",\"ticks\":\"\"}},\"coloraxis\":{\"colorbar\":{\"outlinewidth\":0,\"ticks\":\"\"}},\"colorscale\":{\"sequential\":[[0.0,\"#0d0887\"],[0.1111111111111111,\"#46039f\"],[0.2222222222222222,\"#7201a8\"],[0.3333333333333333,\"#9c179e\"],[0.4444444444444444,\"#bd3786\"],[0.5555555555555556,\"#d8576b\"],[0.6666666666666666,\"#ed7953\"],[0.7777777777777778,\"#fb9f3a\"],[0.8888888888888888,\"#fdca26\"],[1.0,\"#f0f921\"]],\"sequentialminus\":[[0.0,\"#0d0887\"],[0.1111111111111111,\"#46039f\"],[0.2222222222222222,\"#7201a8\"],[0.3333333333333333,\"#9c179e\"],[0.4444444444444444,\"#bd3786\"],[0.5555555555555556,\"#d8576b\"],[0.6666666666666666,\"#ed7953\"],[0.7777777777777778,\"#fb9f3a\"],[0.8888888888888888,\"#fdca26\"],[1.0,\"#f0f921\"]],\"diverging\":[[0,\"#8e0152\"],[0.1,\"#c51b7d\"],[0.2,\"#de77ae\"],[0.3,\"#f1b6da\"],[0.4,\"#fde0ef\"],[0.5,\"#f7f7f7\"],[0.6,\"#e6f5d0\"],[0.7,\"#b8e186\"],[0.8,\"#7fbc41\"],[0.9,\"#4d9221\"],[1,\"#276419\"]]},\"xaxis\":{\"gridcolor\":\"white\",\"linecolor\":\"white\",\"ticks\":\"\",\"title\":{\"standoff\":15},\"zerolinecolor\":\"white\",\"automargin\":true,\"zerolinewidth\":2},\"yaxis\":{\"gridcolor\":\"white\",\"linecolor\":\"white\",\"ticks\":\"\",\"title\":{\"standoff\":15},\"zerolinecolor\":\"white\",\"automargin\":true,\"zerolinewidth\":2},\"scene\":{\"xaxis\":{\"backgroundcolor\":\"#E5ECF6\",\"gridcolor\":\"white\",\"linecolor\":\"white\",\"showbackground\":true,\"ticks\":\"\",\"zerolinecolor\":\"white\",\"gridwidth\":2},\"yaxis\":{\"backgroundcolor\":\"#E5ECF6\",\"gridcolor\":\"white\",\"linecolor\":\"white\",\"showbackground\":true,\"ticks\":\"\",\"zerolinecolor\":\"white\",\"gridwidth\":2},\"zaxis\":{\"backgroundcolor\":\"#E5ECF6\",\"gridcolor\":\"white\",\"linecolor\":\"white\",\"showbackground\":true,\"ticks\":\"\",\"zerolinecolor\":\"white\",\"gridwidth\":2}},\"shapedefaults\":{\"line\":{\"color\":\"#2a3f5f\"}},\"annotationdefaults\":{\"arrowcolor\":\"#2a3f5f\",\"arrowhead\":0,\"arrowwidth\":1},\"geo\":{\"bgcolor\":\"white\",\"landcolor\":\"#E5ECF6\",\"subunitcolor\":\"white\",\"showland\":true,\"showlakes\":true,\"lakecolor\":\"white\"},\"title\":{\"x\":0.05},\"mapbox\":{\"style\":\"light\"}}},\"xaxis\":{\"title\":{\"text\":\"X\"},\"range\":[0,15]},\"yaxis\":{\"title\":{\"text\":\"Y\"},\"range\":[0,12]},\"title\":{\"text\":\"Ruta Optima TSP\"},\"showlegend\":false,\"width\":600,\"height\":600,\"updatemenus\":[{\"buttons\":[{\"args\":[null,{\"frame\":{\"duration\":500,\"redraw\":true},\"mode\":\"immediate\",\"transition\":{\"duration\":0}}],\"label\":\"Play\",\"method\":\"animate\"},{\"args\":[[null],{\"frame\":{\"duration\":0,\"redraw\":true},\"mode\":\"immediate\",\"transition\":{\"duration\":0}}],\"label\":\"Pause\",\"method\":\"animate\"}],\"direction\":\"left\",\"pad\":{\"r\":10,\"t\":87},\"showactive\":false,\"type\":\"buttons\",\"x\":0.1,\"xanchor\":\"right\",\"y\":0,\"yanchor\":\"top\"}]},                        {\"responsive\": true}                    ).then(function(){\n",
       "                            Plotly.addFrames('6642198d-525c-458e-936d-669a1942509b', [{\"data\":[{\"marker\":{\"color\":\"yellow\",\"size\":10},\"mode\":\"markers+lines+text\",\"text\":[\"a\"],\"textposition\":\"top center\",\"x\":[2],\"y\":[5],\"type\":\"scatter\"}]},{\"data\":[{\"marker\":{\"color\":\"yellow\",\"size\":10},\"mode\":\"markers+lines+text\",\"text\":[\"a\",\"d\"],\"textposition\":\"top center\",\"x\":[2,3],\"y\":[5,8],\"type\":\"scatter\"}]},{\"data\":[{\"marker\":{\"color\":\"yellow\",\"size\":10},\"mode\":\"markers+lines+text\",\"text\":[\"a\",\"d\",\"i\"],\"textposition\":\"top center\",\"x\":[2,3,7],\"y\":[5,8,11],\"type\":\"scatter\"}]},{\"data\":[{\"marker\":{\"color\":\"yellow\",\"size\":10},\"mode\":\"markers+lines+text\",\"text\":[\"a\",\"d\",\"i\",\"h\"],\"textposition\":\"top center\",\"x\":[2,3,7,9],\"y\":[5,8,11,9],\"type\":\"scatter\"}]},{\"data\":[{\"marker\":{\"color\":\"yellow\",\"size\":10},\"mode\":\"markers+lines+text\",\"text\":[\"a\",\"d\",\"i\",\"h\",\"k\"],\"textposition\":\"top center\",\"x\":[2,3,7,9,12],\"y\":[5,8,11,9,8],\"type\":\"scatter\"}]},{\"data\":[{\"marker\":{\"color\":\"yellow\",\"size\":10},\"mode\":\"markers+lines+text\",\"text\":[\"a\",\"d\",\"i\",\"h\",\"k\",\"f\"],\"textposition\":\"top center\",\"x\":[2,3,7,9,12,14],\"y\":[5,8,11,9,8,6],\"type\":\"scatter\"}]},{\"data\":[{\"marker\":{\"color\":\"yellow\",\"size\":10},\"mode\":\"markers+lines+text\",\"text\":[\"a\",\"d\",\"i\",\"h\",\"k\",\"f\",\"j\"],\"textposition\":\"top center\",\"x\":[2,3,7,9,12,14,12],\"y\":[5,8,11,9,8,6,1],\"type\":\"scatter\"}]},{\"data\":[{\"marker\":{\"color\":\"yellow\",\"size\":10},\"mode\":\"markers+lines+text\",\"text\":[\"a\",\"d\",\"i\",\"h\",\"k\",\"f\",\"j\",\"b\"],\"textposition\":\"top center\",\"x\":[2,3,7,9,12,14,12,10],\"y\":[5,8,11,9,8,6,1,3],\"type\":\"scatter\"}]},{\"data\":[{\"marker\":{\"color\":\"yellow\",\"size\":10},\"mode\":\"markers+lines+text\",\"text\":[\"a\",\"d\",\"i\",\"h\",\"k\",\"f\",\"j\",\"b\",\"e\"],\"textposition\":\"top center\",\"x\":[2,3,7,9,12,14,12,10,7],\"y\":[5,8,11,9,8,6,1,3,1],\"type\":\"scatter\"}]},{\"data\":[{\"marker\":{\"color\":\"yellow\",\"size\":10},\"mode\":\"markers+lines+text\",\"text\":[\"a\",\"d\",\"i\",\"h\",\"k\",\"f\",\"j\",\"b\",\"e\",\"g\"],\"textposition\":\"top center\",\"x\":[2,3,7,9,12,14,12,10,7,5],\"y\":[5,8,11,9,8,6,1,3,1,4],\"type\":\"scatter\"}]},{\"data\":[{\"marker\":{\"color\":\"yellow\",\"size\":10},\"mode\":\"markers+lines+text\",\"text\":[\"a\",\"d\",\"i\",\"h\",\"k\",\"f\",\"j\",\"b\",\"e\",\"g\",\"c\"],\"textposition\":\"top center\",\"x\":[2,3,7,9,12,14,12,10,7,5,6],\"y\":[5,8,11,9,8,6,1,3,1,4,6],\"type\":\"scatter\"}]}]);\n",
       "                        }).then(function(){\n",
       "                            \n",
       "var gd = document.getElementById('6642198d-525c-458e-936d-669a1942509b');\n",
       "var x = new MutationObserver(function (mutations, observer) {{\n",
       "        var display = window.getComputedStyle(gd).display;\n",
       "        if (!display || display === 'none') {{\n",
       "            console.log([gd, 'removed!']);\n",
       "            Plotly.purge(gd);\n",
       "            observer.disconnect();\n",
       "        }}\n",
       "}});\n",
       "\n",
       "// Listen for the removal of the full notebook cells\n",
       "var notebookContainer = gd.closest('#notebook-container');\n",
       "if (notebookContainer) {{\n",
       "    x.observe(notebookContainer, {childList: true});\n",
       "}}\n",
       "\n",
       "// Listen for the clearing of the current output cell\n",
       "var outputEl = gd.closest('.output');\n",
       "if (outputEl) {{\n",
       "    x.observe(outputEl, {childList: true});\n",
       "}}\n",
       "\n",
       "                        })                };                });            </script>        </div>"
      ]
     },
     "metadata": {},
     "output_type": "display_data"
    }
   ],
   "source": [
    "import plotly.graph_objects as go\n",
    "import pandas as pd\n",
    "\n",
    "# Crear una figura\n",
    "fig = go.Figure()\n",
    "\n",
    "# Crear los frames para la animación\n",
    "frames = []\n",
    "for i in range(len(data)):\n",
    "    frame_data = go.Scatter(\n",
    "        x=data[\"x\"][:i+1],\n",
    "        y=data[\"y\"][:i+1],\n",
    "        mode='markers+lines+text',\n",
    "        text=data['ciudad'][:i+1],\n",
    "        textposition='top center',\n",
    "        marker=dict(size=10, color='yellow')\n",
    "    )\n",
    "    frames.append(go.Frame(data=[frame_data]))\n",
    "\n",
    "# Agregar la traza inicial (sin animación)\n",
    "fig.add_trace(frames[0].data[0])\n",
    "\n",
    "# Configurar el layout\n",
    "fig.update_layout(\n",
    "    title='Ruta Optima TSP',\n",
    "    xaxis_title='X',\n",
    "    yaxis_title='Y',\n",
    "    showlegend=False,\n",
    "    width=600,\n",
    "    height=600,\n",
    "    xaxis=dict(range=[0, 15]),  # Define los límites del eje x\n",
    "    yaxis=dict(range=[0, 12]),  # Define los límites del eje y\n",
    "    updatemenus=[{\n",
    "        'buttons': [\n",
    "            {\n",
    "                'label': 'Play',\n",
    "                'method': 'animate',\n",
    "                'args': [None, {\n",
    "                    'frame': {'duration': 500, 'redraw': True},\n",
    "                    'mode': 'immediate',\n",
    "                    'transition': {'duration': 0}\n",
    "                }]\n",
    "            },\n",
    "            {\n",
    "                'label': 'Pause',\n",
    "                'method': 'animate',\n",
    "                'args': [[None], {\n",
    "                    'frame': {'duration': 0, 'redraw': True},\n",
    "                    'mode': 'immediate',\n",
    "                    'transition': {'duration': 0}\n",
    "                }]\n",
    "            }\n",
    "        ],\n",
    "        'direction': 'left',\n",
    "        'pad': {'r': 10, 't': 87},\n",
    "        'showactive': False,\n",
    "        'type': 'buttons',\n",
    "        'x': 0.1,\n",
    "        'xanchor': 'right',\n",
    "        'y': 0,\n",
    "        'yanchor': 'top'\n",
    "    }],\n",
    ")\n",
    "\n",
    "# Asignar los frames a la figura\n",
    "fig.frames = frames\n",
    "fig.write_html(\"grafico_animado.html\")\n",
    "# Mostrar la figura\n",
    "fig.show()\n"
   ]
  }
 ],
 "metadata": {
  "kernelspec": {
   "display_name": "Python 3 (ipykernel)",
   "language": "python",
   "name": "python3"
  },
  "language_info": {
   "codemirror_mode": {
    "name": "ipython",
    "version": 3
   },
   "file_extension": ".py",
   "mimetype": "text/x-python",
   "name": "python",
   "nbconvert_exporter": "python",
   "pygments_lexer": "ipython3",
   "version": "3.11.4"
  }
 },
 "nbformat": 4,
 "nbformat_minor": 5
}
